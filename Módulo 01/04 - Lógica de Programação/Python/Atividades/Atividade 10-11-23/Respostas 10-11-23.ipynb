{
 "cells": [
  {
   "cell_type": "code",
   "execution_count": 22,
   "metadata": {},
   "outputs": [
    {
     "name": "stdout",
     "output_type": "stream",
     "text": [
      "A soma entre 4 e 9 é 13\n",
      "A multiplicação entre 4 e 9 é 36\n"
     ]
    }
   ],
   "source": [
    "# Questão 1\n",
    "\n",
    "a = 4\n",
    "b = 9\n",
    "\n",
    "print(f\"A soma entre {a} e {b} é {a + b}\")\n",
    "print(f\"A multiplicação entre {a} e {b} é {a * b}\")"
   ]
  },
  {
   "cell_type": "code",
   "execution_count": 23,
   "metadata": {},
   "outputs": [
    {
     "name": "stdout",
     "output_type": "stream",
     "text": [
      "vermelho\n",
      "azul\n",
      "verde\n",
      "laranja\n",
      "rosa\n"
     ]
    }
   ],
   "source": [
    "# Questão 2\n",
    "\n",
    "cores = [\"vermelho\", \"azul\", \"verde\", \"laranja\", \"rosa\"]\n",
    "\n",
    "for cor in cores:\n",
    "    print(cor)"
   ]
  },
  {
   "cell_type": "code",
   "execution_count": 24,
   "metadata": {},
   "outputs": [
    {
     "name": "stdout",
     "output_type": "stream",
     "text": [
      "A capital do Brasil é: Brasília\n"
     ]
    }
   ],
   "source": [
    "# Questão 3\n",
    "\n",
    "paises = {\n",
    "    \"Portugal\": \"Lisboa\",\n",
    "    \"EUA\": \"Washington\",\n",
    "    \"Brasil\": \"Brasília\"\n",
    "    }\n",
    "\n",
    "print(\"A capital do Brasil é:\", paises[\"Brasil\"])"
   ]
  },
  {
   "cell_type": "code",
   "execution_count": 29,
   "metadata": {},
   "outputs": [
    {
     "name": "stdout",
     "output_type": "stream",
     "text": [
      "Pode ser preso\n"
     ]
    }
   ],
   "source": [
    "# Questão 4\n",
    "\n",
    "idade = 21\n",
    "\n",
    "if idade >= 18:\n",
    "    print(\"Pode ser preso\")\n"
   ]
  },
  {
   "cell_type": "code",
   "execution_count": 34,
   "metadata": {},
   "outputs": [
    {
     "name": "stdout",
     "output_type": "stream",
     "text": [
      "Boa noite\n"
     ]
    }
   ],
   "source": [
    "# Questão 5\n",
    "\n",
    "hora = 24\n",
    "\n",
    "if hora >= 0 and hora <= 5:\n",
    "    print(\"Boa madrugada\")\n",
    "elif hora >= 6 and hora <= 11:\n",
    "    print(\"Bom dia\")\n",
    "elif hora >= 12 and hora <= 17:\n",
    "    print(\"Boa tarde\")\n",
    "elif hora >= 18 and hora <= 24:\n",
    "    print(\"Boa noite\")\n",
    "else:\n",
    "    print(\"Hora inválida\")\n"
   ]
  },
  {
   "cell_type": "code",
   "execution_count": 35,
   "metadata": {},
   "outputs": [
    {
     "name": "stdout",
     "output_type": "stream",
     "text": [
      "1\n",
      "2\n",
      "3\n",
      "4\n",
      "5\n"
     ]
    }
   ],
   "source": [
    "# Questão 6\n",
    "\n",
    "x = 1\n",
    "\n",
    "while x <= 5:\n",
    "    print(x)\n",
    "    x = x + 1"
   ]
  },
  {
   "cell_type": "code",
   "execution_count": 36,
   "metadata": {},
   "outputs": [
    {
     "name": "stdout",
     "output_type": "stream",
     "text": [
      "2\n",
      "4\n",
      "6\n",
      "8\n",
      "10\n"
     ]
    }
   ],
   "source": [
    "# Questão 7\n",
    "\n",
    "numeros = [1,2,3,4,5,6,7,8,9,10]\n",
    "\n",
    "for x in numeros:\n",
    "    if x % 2 == 0:\n",
    "        print(x)"
   ]
  },
  {
   "cell_type": "code",
   "execution_count": 39,
   "metadata": {},
   "outputs": [
    {
     "name": "stdout",
     "output_type": "stream",
     "text": [
      "maça\n",
      "pera\n"
     ]
    }
   ],
   "source": [
    "# Questão 8\n",
    "\n",
    "frutas = [\"maça\", \"maracuja\", \"limão\", \"nanana\", \"pera\"]\n",
    "\n",
    "print(frutas[0])\n",
    "print(frutas[len(frutas)-1])"
   ]
  },
  {
   "cell_type": "code",
   "execution_count": 40,
   "metadata": {},
   "outputs": [
    {
     "name": "stdout",
     "output_type": "stream",
     "text": [
      "1\n",
      "2\n",
      "3\n",
      "4\n",
      "5\n",
      "6\n",
      "7\n",
      "8\n",
      "9\n",
      "10\n"
     ]
    }
   ],
   "source": [
    "# Questão 9\n",
    "\n",
    "for n in range(1, 11):\n",
    "    print(n)"
   ]
  },
  {
   "cell_type": "code",
   "execution_count": 43,
   "metadata": {},
   "outputs": [
    {
     "name": "stdout",
     "output_type": "stream",
     "text": [
      "Cat está dentro de animais\n"
     ]
    }
   ],
   "source": [
    "# Questão 10\n",
    "\n",
    "animais = [\"doguinho\", \"cat\", \"ema\", \"pig\"]\n",
    "\n",
    "if \"cat\" in animais:\n",
    "    print(\"Cat está dentro de animais\")"
   ]
  },
  {
   "cell_type": "code",
   "execution_count": 45,
   "metadata": {},
   "outputs": [
    {
     "name": "stdout",
     "output_type": "stream",
     "text": [
      "1\n",
      "2\n",
      "3\n",
      "4\n"
     ]
    }
   ],
   "source": [
    "# Questão 11\n",
    "\n",
    "cont = 1\n",
    "\n",
    "while cont <= 10:\n",
    "    print(cont)\n",
    "    cont = cont + 1\n",
    "    if cont == 5:\n",
    "        break"
   ]
  },
  {
   "cell_type": "code",
   "execution_count": 47,
   "metadata": {},
   "outputs": [
    {
     "name": "stdout",
     "output_type": "stream",
     "text": [
      "Par\n"
     ]
    }
   ],
   "source": [
    "# Questão 12\n",
    "\n",
    "numero = 8\n",
    "\n",
    "if numero % 2 == 0:\n",
    "    print(\"Par\")\n",
    "else:\n",
    "    print(\"Ímpar\")"
   ]
  },
  {
   "cell_type": "code",
   "execution_count": 48,
   "metadata": {},
   "outputs": [
    {
     "name": "stdout",
     "output_type": "stream",
     "text": [
      "Hoje é segunda-feira, vou Limpar a casa\n",
      "Hoje é terça-feira, vou Lavar a louça\n",
      "Hoje é quarta-feira, vou Passar o pano\n",
      "Hoje é quinta-feira, vou Lavar a roupa\n",
      "Hoje é sexta-feira, vou Passar roupa\n",
      "Hoje é sábado, vou Tirar o lixo\n",
      "Hoje é domingo, vou Fazer churrasco\n"
     ]
    }
   ],
   "source": [
    "# Questão 13\n",
    "\n",
    "dias = [\"segunda-feira\", \"terça-feira\", \"quarta-feira\", \"quinta-feira\", \"sexta-feira\", \"sábado\", \"domingo\"]\n",
    "tarefas = [\"Limpar a casa\", \"Lavar a louça\", \"Passar o pano\", \"Lavar a roupa\", \"Passar roupa\", \"Tirar o lixo\", \"Fazer churrasco\"]\n",
    "\n",
    "for x in range(len(dias)):\n",
    "    print(f\"Hoje é {dias[x]}, vou {tarefas[x]}\")"
   ]
  }
 ],
 "metadata": {
  "kernelspec": {
   "display_name": "Python 3",
   "language": "python",
   "name": "python3"
  },
  "language_info": {
   "codemirror_mode": {
    "name": "ipython",
    "version": 3
   },
   "file_extension": ".py",
   "mimetype": "text/x-python",
   "name": "python",
   "nbconvert_exporter": "python",
   "pygments_lexer": "ipython3",
   "version": "3.11.2"
  }
 },
 "nbformat": 4,
 "nbformat_minor": 2
}
