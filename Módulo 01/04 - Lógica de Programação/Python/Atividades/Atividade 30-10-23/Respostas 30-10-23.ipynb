{
 "cells": [
  {
   "cell_type": "code",
   "execution_count": 1,
   "metadata": {},
   "outputs": [
    {
     "name": "stdout",
     "output_type": "stream",
     "text": [
      "O resultado da soma destes números é 4\n",
      "O resultado da soma destes números é 4\n"
     ]
    }
   ],
   "source": [
    "# Questão 1\n",
    "\n",
    "n1 = int(input(\"Insira o primeiro número: \"))\n",
    "n2 = int(input(\"Insira o segundo número: \"))\n",
    "\n",
    "print(f\"O resultado da soma destes números é {n1 + n2}\")\n",
    "print(\"O resultado da soma destes números é\",n1 + n2)"
   ]
  },
  {
   "cell_type": "code",
   "execution_count": null,
   "metadata": {},
   "outputs": [],
   "source": [
    "# Questão 2\n",
    "\n",
    "fruta = \"banana\"\n",
    "suposicao = input(\"Advinhe a fruta: \").lower()\n",
    "\n",
    "if suposicao == fruta:\n",
    "    print(\"Correta!\")\n",
    "else:\n",
    "    print(\"Incorreto!\")"
   ]
  },
  {
   "cell_type": "code",
   "execution_count": 38,
   "metadata": {},
   "outputs": [
    {
     "name": "stdout",
     "output_type": "stream",
     "text": [
      "Fora do intervalo\n"
     ]
    }
   ],
   "source": [
    "# Questão 3\n",
    "\n",
    "numero = int(input(\"Digite um número:\"))\n",
    "\n",
    "if numero >= 1 and numero <= 10:\n",
    "    print(\"Dentro do intervalo\")\n",
    "else:\n",
    "    print(\"Fora do intervalo\")"
   ]
  },
  {
   "cell_type": "code",
   "execution_count": 43,
   "metadata": {},
   "outputs": [
    {
     "name": "stdout",
     "output_type": "stream",
     "text": [
      "Saldo negativo\n"
     ]
    }
   ],
   "source": [
    "# Questão 4\n",
    "\n",
    "saldo = -1\n",
    "\n",
    "if saldo > 0:\n",
    "    print(\"Saldo positivo\")\n",
    "elif saldo == 0:\n",
    "    print(\"Saldo zero\")\n",
    "else:\n",
    "    print(\"Saldo negativo\")"
   ]
  },
  {
   "cell_type": "code",
   "execution_count": 48,
   "metadata": {},
   "outputs": [
    {
     "name": "stdout",
     "output_type": "stream",
     "text": [
      "A temperatura em Fahrenheit é 77.9\n",
      "A temperatura em Fahrenheit é 77.9\n"
     ]
    }
   ],
   "source": [
    "# Questão 5\n",
    "\n",
    "temperatura = 25.5\n",
    "\n",
    "fahrenheit = temperatura * 9 / 5 + 32\n",
    "print(\"A temperatura em Fahrenheit é\", fahrenheit)\n",
    "print(f\"A temperatura em Fahrenheit é {fahrenheit}\")"
   ]
  },
  {
   "cell_type": "code",
   "execution_count": 55,
   "metadata": {},
   "outputs": [
    {
     "name": "stdout",
     "output_type": "stream",
     "text": [
      "Par\n"
     ]
    }
   ],
   "source": [
    "# Questão 6\n",
    "\n",
    "numero = int(input(\"Insira um número:\"))\n",
    "\n",
    "if numero % 2 == 0:\n",
    "    print(\"Par\")\n",
    "else:\n",
    "    print(\"Impar\")"
   ]
  }
 ],
 "metadata": {
  "kernelspec": {
   "display_name": "Python 3",
   "language": "python",
   "name": "python3"
  },
  "language_info": {
   "codemirror_mode": {
    "name": "ipython",
    "version": 3
   },
   "file_extension": ".py",
   "mimetype": "text/x-python",
   "name": "python",
   "nbconvert_exporter": "python",
   "pygments_lexer": "ipython3",
   "version": "3.11.2"
  }
 },
 "nbformat": 4,
 "nbformat_minor": 2
}
