{
 "cells": [
  {
   "cell_type": "code",
   "execution_count": null,
   "metadata": {},
   "outputs": [],
   "source": [
    "# Questão 1\n",
    "\n",
    "numero = int(input(\"Digite um número!\"))\n",
    "antecessor = numero - 1\n",
    "sucessor = numero + 1\n",
    "\n",
    "print(\"O número\", numero, \"tem como seu antecessor o\", antecessor, \"e como sucessor tem o\", sucessor)"
   ]
  },
  {
   "cell_type": "code",
   "execution_count": null,
   "metadata": {},
   "outputs": [],
   "source": [
    "# Questão 1 - Versão 2.0\n",
    "\n",
    "numero = int(input(\"Digite um número!\"))\n",
    "\n",
    "print(\"O número\", numero, \"tem como seu antecessor o\", numero - 1, \"e como sucessor tem o\", numero + 1)"
   ]
  },
  {
   "cell_type": "code",
   "execution_count": null,
   "metadata": {},
   "outputs": [],
   "source": [
    "# Questão 2\n",
    "\n",
    "cont = 1\n",
    "media = 0\n",
    "\n",
    "while cont <= 3:\n",
    "    nota = int(input(f\"Insira a Nota {cont}\"))\n",
    "    media = media + nota\n",
    "    cont = cont + 1\n",
    "\n",
    "print(\"A sua média Final é\", media/3)\n",
    "print(\"A sua média Final é\", int(media/3))\n",
    "print(\"A sua média Final é\", media//3)"
   ]
  },
  {
   "cell_type": "code",
   "execution_count": null,
   "metadata": {},
   "outputs": [],
   "source": [
    "# Questão 3\n",
    "\n",
    "cont = 0\n",
    "numero = 4\n",
    "\n",
    "while cont <= 10:\n",
    "    resultado = numero * cont\n",
    "    print(f\"{numero} x {cont} = {resultado}\")\n",
    "    cont = cont + 1"
   ]
  },
  {
   "cell_type": "code",
   "execution_count": null,
   "metadata": {},
   "outputs": [],
   "source": [
    "# Questão 3 - Versão 2.0\n",
    "\n",
    "cont = 0\n",
    "\n",
    "while cont <= 10:\n",
    "    print(f\"4 x {cont} = {4*cont}\")\n",
    "    cont = cont + 1"
   ]
  },
  {
   "cell_type": "code",
   "execution_count": null,
   "metadata": {},
   "outputs": [],
   "source": [
    "# Questão 4\n",
    "\n",
    "real = float(input(\"Digite o valor em Real (R$)\"))\n",
    "\n",
    "conversao = 4.9\n",
    "dolar = real / conversao\n",
    "print(\"O valor em Dólar é\",dolar)"
   ]
  },
  {
   "cell_type": "code",
   "execution_count": null,
   "metadata": {},
   "outputs": [],
   "source": [
    "# Questão 4 - Versão 2.0\n",
    "\n",
    "real = float(input(\"Digite o valor em Real (R$)\"))\n",
    "\n",
    "print(f\"O valor em Dólar é {real/4.9}\")"
   ]
  }
 ],
 "metadata": {
  "kernelspec": {
   "display_name": "Python 3",
   "language": "python",
   "name": "python3"
  },
  "language_info": {
   "codemirror_mode": {
    "name": "ipython",
    "version": 3
   },
   "file_extension": ".py",
   "mimetype": "text/x-python",
   "name": "python",
   "nbconvert_exporter": "python",
   "pygments_lexer": "ipython3",
   "version": "3.11.2"
  }
 },
 "nbformat": 4,
 "nbformat_minor": 2
}
