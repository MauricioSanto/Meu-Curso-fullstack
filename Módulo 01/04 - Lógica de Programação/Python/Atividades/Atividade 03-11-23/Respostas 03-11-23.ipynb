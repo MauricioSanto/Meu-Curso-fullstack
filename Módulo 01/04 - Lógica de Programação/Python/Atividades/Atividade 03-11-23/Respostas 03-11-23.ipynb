{
 "cells": [
  {
   "cell_type": "code",
   "execution_count": null,
   "metadata": {},
   "outputs": [],
   "source": [
    "# Questão 1\n",
    "\n",
    "contador = 1\n",
    "total = 0\n",
    "\n",
    "while contador <= 5:\n",
    "    contador = contador + 1\n",
    "    valor = int(input(\"Digite um número\"))\n",
    "    print(valor)\n",
    "    if valor % 2 == 0:\n",
    "        total = total + valor\n",
    "print(f\"O valor total da soma dos números pares é: {total}\")"
   ]
  },
  {
   "cell_type": "code",
   "execution_count": null,
   "metadata": {},
   "outputs": [],
   "source": [
    "# Questão 2\n",
    "\n",
    "cont = 1\n",
    "maior = 0\n",
    "\n",
    "while cont <= 5:\n",
    "    valor = int(input(\"Digite um número\"))\n",
    "    print(valor)\n",
    "    cont = cont + 1\n",
    "    if valor > maior:\n",
    "        maior = valor\n",
    "print(\"O maior valor digitado é\", maior)"
   ]
  },
  {
   "cell_type": "code",
   "execution_count": null,
   "metadata": {},
   "outputs": [],
   "source": [
    "# Questão 3\n",
    "\n",
    "cont = 1\n",
    "\n",
    "while cont <= 10:\n",
    "    if cont % 2 != 0:\n",
    "        print(cont)\n",
    "    cont = cont + 1"
   ]
  },
  {
   "cell_type": "code",
   "execution_count": null,
   "metadata": {},
   "outputs": [],
   "source": [
    "# Questão 4\n",
    "\n",
    "cont = 1\n",
    "\n",
    "limite = int(input(\"Insira o número final\"))\n",
    "while cont <= limite:\n",
    "    print(cont)\n",
    "    cont = cont + 1\n",
    "    "
   ]
  }
 ],
 "metadata": {
  "kernelspec": {
   "display_name": "Python 3",
   "language": "python",
   "name": "python3"
  },
  "language_info": {
   "codemirror_mode": {
    "name": "ipython",
    "version": 3
   },
   "file_extension": ".py",
   "mimetype": "text/x-python",
   "name": "python",
   "nbconvert_exporter": "python",
   "pygments_lexer": "ipython3",
   "version": "3.11.2"
  }
 },
 "nbformat": 4,
 "nbformat_minor": 2
}
