{
 "cells": [
  {
   "cell_type": "code",
   "execution_count": 2,
   "metadata": {},
   "outputs": [
    {
     "name": "stdout",
     "output_type": "stream",
     "text": [
      "resultado 15\n"
     ]
    }
   ],
   "source": [
    "# Antonio\n",
    "n1=7\n",
    "n2=8\n",
    "print('resultado', n1+n2)"
   ]
  },
  {
   "cell_type": "code",
   "execution_count": 4,
   "metadata": {},
   "outputs": [
    {
     "name": "stdout",
     "output_type": "stream",
     "text": [
      "3\n"
     ]
    }
   ],
   "source": [
    "# Daiane\n",
    "print(10 // 3)\n"
   ]
  },
  {
   "cell_type": "code",
   "execution_count": 12,
   "metadata": {},
   "outputs": [
    {
     "name": "stdout",
     "output_type": "stream",
     "text": [
      "True\n"
     ]
    }
   ],
   "source": [
    "#rodrigo\n",
    "A = 7\n",
    "B = 5\n",
    "print(A > B)"
   ]
  },
  {
   "cell_type": "code",
   "execution_count": 22,
   "metadata": {},
   "outputs": [
    {
     "name": "stdout",
     "output_type": "stream",
     "text": [
      "olá rodrigo, você tem 60 anos\n"
     ]
    }
   ],
   "source": [
    "#Alysson\n",
    "nome = \"rodrigo\"\n",
    "idade = 60\n",
    "print (f\"olá {nome}, você tem {idade} anos\")"
   ]
  },
  {
   "cell_type": "code",
   "execution_count": 27,
   "metadata": {},
   "outputs": [
    {
     "name": "stdout",
     "output_type": "stream",
     "text": [
      "o resultado 3.0\n"
     ]
    }
   ],
   "source": [
    "#mathews\n",
    "\n",
    "x = 9\n",
    "y = 3\n",
    "print (\"o resultado\" , x/y)"
   ]
  },
  {
   "cell_type": "code",
   "execution_count": 32,
   "metadata": {},
   "outputs": [
    {
     "name": "stdout",
     "output_type": "stream",
     "text": [
      "o resultado é: 63.0\n"
     ]
    }
   ],
   "source": [
    "#Davi\n",
    "preco = 10.50\n",
    "quantidade = 6\n",
    "print(f\"o resultado é: {preco * quantidade}\")"
   ]
  },
  {
   "cell_type": "code",
   "execution_count": 35,
   "metadata": {},
   "outputs": [
    {
     "name": "stdout",
     "output_type": "stream",
     "text": [
      "False\n"
     ]
    }
   ],
   "source": [
    "#Erondina\n",
    "numero = 30\n",
    "numero2 = 30\n",
    "print(numero != numero2)"
   ]
  },
  {
   "cell_type": "code",
   "execution_count": 43,
   "metadata": {},
   "outputs": [
    {
     "name": "stdout",
     "output_type": "stream",
     "text": [
      "meu nome é davi silva, tenho 45 anos e tenho 1.9 de altura.\n"
     ]
    }
   ],
   "source": [
    "#mathews janierry\n",
    "nome = \"davi\"\n",
    "idade = 45\n",
    "altura = 1.90\n",
    "print (f\"meu nome é {nome} silva, tenho {idade} anos e tenho {altura} de altura.\")"
   ]
  },
  {
   "cell_type": "code",
   "execution_count": 46,
   "metadata": {},
   "outputs": [
    {
     "name": "stdout",
     "output_type": "stream",
     "text": [
      "ola sou alison matheus, tenho 153 anos, minha altura é (1, 98), e peso 86\n",
      "<class 'tuple'>\n"
     ]
    }
   ],
   "source": [
    "#igor\n",
    "nome = \"alison matheus\"\n",
    "idade = 153\n",
    "altura = 1.98\n",
    "peso = 86\n",
    "print(f\"ola sou {nome}, tenho {idade} anos, minha altura é {altura}, e peso {peso}\")\n",
    "print(type(altura))"
   ]
  },
  {
   "cell_type": "code",
   "execution_count": 2,
   "metadata": {},
   "outputs": [
    {
     "name": "stdout",
     "output_type": "stream",
     "text": [
      "voce Josué tem o IMC no valor de 23.588329220496444\n"
     ]
    }
   ],
   "source": [
    "#Bianca e Suyany\n",
    "nome = \"Josué\"\n",
    "idade = 29\n",
    "peso = 65\n",
    "altura = 1.66\n",
    "print(f\"voce {nome} tem o IMC no valor de {peso/(altura**2)}\")"
   ]
  },
  {
   "cell_type": "code",
   "execution_count": 10,
   "metadata": {},
   "outputs": [
    {
     "name": "stdout",
     "output_type": "stream",
     "text": [
      "resultado: True\n",
      "resultado: True\n"
     ]
    }
   ],
   "source": [
    "# antonio junior\n",
    "\n",
    "print(f'resultado: {10>5}')\n",
    "\n",
    "print('resultado:', 10>5)\n"
   ]
  },
  {
   "cell_type": "code",
   "execution_count": 12,
   "metadata": {},
   "outputs": [
    {
     "name": "stdout",
     "output_type": "stream",
     "text": [
      "a area quadrada de um ambiente de 4m por 12m é: 48\n"
     ]
    }
   ],
   "source": [
    "#mathews souza\n",
    "altura= 4\n",
    "base= 12\n",
    "print (f\"a area quadrada de um ambiente de {altura}m por {base}m é: {altura*base}\")"
   ]
  },
  {
   "cell_type": "code",
   "execution_count": 14,
   "metadata": {},
   "outputs": [
    {
     "name": "stdout",
     "output_type": "stream",
     "text": [
      "a area do triangulo é: 12.0\n"
     ]
    }
   ],
   "source": [
    "#vitoria\n",
    "base =3\n",
    "altura =8\n",
    "print(f\"a area do triangulo é: {(base*altura)/2}\")"
   ]
  },
  {
   "cell_type": "code",
   "execution_count": 22,
   "metadata": {},
   "outputs": [
    {
     "name": "stdout",
     "output_type": "stream",
     "text": [
      "O valor da compra de 4 camisas no valor de 20 reais é: 80 reais\n",
      "O valor com desconto é: 72 reais\n"
     ]
    }
   ],
   "source": [
    "# gustavo\n",
    "preco = 20\n",
    "desconto = 0.1\n",
    "quantidade = 4\n",
    "print(f\"O valor da compra de {quantidade} camisas no valor de {preco} reais é: {quantidade*preco} reais\")\n",
    "print(f\"O valor com desconto é: {int((quantidade*preco)-(quantidade*preco)*desconto)} reais\")"
   ]
  },
  {
   "cell_type": "code",
   "execution_count": 1,
   "metadata": {},
   "outputs": [
    {
     "name": "stdout",
     "output_type": "stream",
     "text": [
      "meu nome é: Mauricio, minha idade è: 40 e minha media é: 9.0\n",
      "aprovado\n"
     ]
    }
   ],
   "source": [
    "#Mauricio\n",
    "nome = input (\"qual é o seu nome\")\n",
    "idade = int (input(\"qual a sua idade\"))\n",
    "nota1 = int (input(\"qual a sua nota\"))\n",
    "nota2 = int (input(\"qual a sua nota\"))\n",
    "media = (nota1+nota2)/2\n",
    "print (f\"meu nome é: {nome}, minha idade è: {idade} e minha media é: {media}\")\n",
    "if media>=7 :\n",
    "    print (\"aprovado\")\n",
    "else:\n",
    "    print (\"reprovado\")"
   ]
  },
  {
   "cell_type": "code",
   "execution_count": 2,
   "metadata": {},
   "outputs": [
    {
     "name": "stdout",
     "output_type": "stream",
     "text": [
      "o nome do produto é: arroz e o seu valor é: 5.5\n"
     ]
    }
   ],
   "source": [
    "#suyany\n",
    "nome_produto = input(\"nome do produto:\")\n",
    "valor_produto = float(input(\"valor do produto:\"))\n",
    "print(f\"o nome do produto é: {nome_produto} e o seu valor é: {valor_produto}\")"
   ]
  },
  {
   "cell_type": "code",
   "execution_count": null,
   "metadata": {},
   "outputs": [],
   "source": [
    "cont= \"olá mundo\"\n",
    "\n",
    "for x in [[1,8,6], \"porta\", 5 + 8, cont]:\n",
    "    print(x,type(x))\n",
    "    "
   ]
  },
  {
   "cell_type": "code",
   "execution_count": null,
   "metadata": {},
   "outputs": [],
   "source": [
    "cont = 5-1\n",
    "\n",
    "for x in [5,6,3, \"casa\", cont]:\n",
    "    print(x)"
   ]
  }
 ],
 "metadata": {
  "kernelspec": {
   "display_name": "Python 3",
   "language": "python",
   "name": "python3"
  },
  "language_info": {
   "codemirror_mode": {
    "name": "ipython",
    "version": 3
   },
   "file_extension": ".py",
   "mimetype": "text/x-python",
   "name": "python",
   "nbconvert_exporter": "python",
   "pygments_lexer": "ipython3",
   "version": "3.11.2"
  }
 },
 "nbformat": 4,
 "nbformat_minor": 2
}
